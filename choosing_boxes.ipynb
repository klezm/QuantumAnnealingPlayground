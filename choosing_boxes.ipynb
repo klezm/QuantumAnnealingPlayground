{
 "cells": [
  {
   "cell_type": "markdown",
   "metadata": {},
   "source": [
    "# Choosing Boxes Problem"
   ]
  },
  {
   "cell_type": "markdown",
   "metadata": {},
   "source": [
    "as shown in the [problem formulation guide](https://www.dwavesys.com/media/bu0lh5ee/problem-formulation-guide-2022-01-10.pdf).\n",
    "\n",
    "\n",
    "- https://github.com/dwave-training/choosing-boxes"
   ]
  },
  {
   "cell_type": "markdown",
   "metadata": {},
   "source": [
    "## Mathematical formulation\n",
    "\n",
    "For $\\gamma = 1$\n",
    "\n",
    "$$\n",
    "\\begin{align}\n",
    "    & min\n",
    "    (\n",
    "        (15x_1 + 20x_2 + 25x_3)\n",
    "\n",
    "        +\\gamma\n",
    "        {\n",
    "            \\underbrace{\n",
    "                (x_1+x_2+x_3-2)^2\n",
    "            }_{\n",
    "                \\underbrace{\n",
    "                    x_1^2 \n",
    "                    - 4 x_1 \n",
    "                    + x_2^2 \n",
    "                    - 4 x_2 \n",
    "                    + x_3^2 \n",
    "                    - 4 x_3 \n",
    "\n",
    "                    + 2 x_1 x_2\n",
    "                    + 2 x_1 x_3 \n",
    "                    + 2 x_2 x_3 \n",
    "\n",
    "                    + 4\n",
    "                }_{\n",
    "                    - 3x_1 - 3x_2 - 3x_3\n",
    "                    + 2x_1x_2 + 2x_1x_3 + 2x_2x_3\n",
    "                    + 4\n",
    "                    \\quad\n",
    "                    (x_i^2 = x_i \\ \\text{with} \\ x_i \\in \\{0,1\\})\n",
    "                }\n",
    "            }\n",
    "        }\n",
    "    ) \\\\\n",
    "\n",
    "    & = min\n",
    "    \\left(\n",
    "        15x_1\n",
    "        - 3x_1\n",
    "        + 20x_2\n",
    "        - 3x_2\n",
    "        + 25x_3\n",
    "        - 3x_3\n",
    "        + 2x_1x_2\n",
    "        + 2x_1x_3\n",
    "        + 2x_2x_3\n",
    "        + 4\n",
    "    \\right) \\\\ \n",
    "\n",
    "    & = min\n",
    "    \\left(\n",
    "        \\underbrace{\n",
    "            12x_1\n",
    "            + 17x_2\n",
    "            + 22x_3\n",
    "        }_{\\text{linear terms}}\n",
    "        +\n",
    "        \\underbrace{\n",
    "            2x_1x_2\n",
    "            + 2x_1x_3\n",
    "            + 2x_2x_3\n",
    "        }_{\\text{quadratic terms}}\n",
    "        + 4\n",
    "    \\right) \\\\\n",
    "\n",
    "    & \\Rightarrow\n",
    "    Q = \n",
    "    \\left(\n",
    "        \\begin{matrix}\n",
    "            12  & 2  & 2 \\\\\n",
    "                & 17 & 2 \\\\\n",
    "                &    & 22 \\\\\n",
    "        \\end{matrix}\n",
    "    \\right)\n",
    "\\end{align}\n",
    "$$"
   ]
  },
  {
   "cell_type": "markdown",
   "metadata": {},
   "source": [
    "## Code"
   ]
  },
  {
   "cell_type": "code",
   "execution_count": null,
   "metadata": {},
   "outputs": [],
   "source": [
    "import itertools\n",
    "from copy import deepcopy\n",
    "from collections import defaultdict\n",
    "from pprint import pprint\n",
    "\n",
    "import numpy as np\n",
    "# !pip install sympy\n",
    "import sympy\n",
    "\n",
    "from dwave.system import DWaveSampler, EmbeddingComposite\n",
    "import dwave.inspector\n",
    "import dimod"
   ]
  },
  {
   "cell_type": "code",
   "execution_count": null,
   "metadata": {},
   "outputs": [],
   "source": [
    "def make_Q(qubo: sympy.Expr):\n",
    "    \"\"\"\n",
    "    takes a QUBO sympy expression and returns the QUBO matrix.\n",
    "    \"\"\"\n",
    "    qubo = sympy.cancel(qubo)  # simplified\n",
    "    qubo = qubo.subs({x ** 2: x for x in symbols})  # x_i^2 = x_i   with x_i ∈ {0,1}\n",
    "    qubo = qubo.as_poly()\n",
    "    qubo_dict = qubo.as_dict()\n",
    "    qubo_dict = sorted(tuple(qubo_dict.items()), reverse = True)\n",
    "    num_vars = len(qubo.free_symbols)\n",
    "    Q = np.zeros((num_vars, num_vars), dtype = int)\n",
    "    # print(Q)\n",
    "\n",
    "    def group_rows(qubo: dict):\n",
    "        rows = {}\n",
    "        for i in range(num_vars):\n",
    "            row = [(coord, coef) for ix, (coord, coef) in enumerate(qubo) if coord[i] == 1]\n",
    "            rows[i] = row\n",
    "            for elem in row:\n",
    "                qubo.remove(elem)\n",
    "        rows = {k: {\"linear\": [e for e in v if sum(e[0]) == 1], \"quadratic\": [e for e in v if sum(e[0]) > 1]} for k, v in rows.items()}\n",
    "        return rows\n",
    "    rows = group_rows(qubo_dict)\n",
    "    # print(rows)\n",
    "\n",
    "    def fill_Q(rows, Q):\n",
    "        for ir, row in rows.items():\n",
    "            for (ic, col) in row[\"quadratic\"]:\n",
    "                Q[(ir, ic.index(1, ir + 1))] = col\n",
    "            for (ic, col) in row[\"linear\"]:\n",
    "                Q[(ir, ir)] = col\n",
    "        return Q\n",
    "    Q = fill_Q(rows, Q)\n",
    "\n",
    "    return Q\n",
    "\n",
    "\n",
    "# print(\"QUBO matrix\")\n",
    "# make_Q(qubo)"
   ]
  },
  {
   "cell_type": "code",
   "execution_count": null,
   "metadata": {},
   "outputs": [
    {
     "name": "stdout",
     "output_type": "stream",
     "text": [
      "QUBO:\n"
     ]
    },
    {
     "data": {
      "text/latex": [
       "$\\displaystyle 15 x_{1} + 20 x_{2} + 25 x_{3} + 40 \\left(x_{1} + x_{2} + x_{3} - 2\\right)^{2}$"
      ],
      "text/plain": [
       "15*x1 + 20*x2 + 25*x3 + 40*(x1 + x2 + x3 - 2)**2"
      ]
     },
     "metadata": {},
     "output_type": "display_data"
    },
    {
     "name": "stdout",
     "output_type": "stream",
     "text": [
      "Simplified QUBO with γ = 1\n"
     ]
    },
    {
     "data": {
      "text/latex": [
       "$\\displaystyle 2 x_{1} x_{2} + 2 x_{1} x_{3} + 12 x_{1} + 2 x_{2} x_{3} + 17 x_{2} + 22 x_{3} + 4$"
      ],
      "text/plain": [
       "2*x1*x2 + 2*x1*x3 + 12*x1 + 2*x2*x3 + 17*x2 + 22*x3 + 4"
      ]
     },
     "metadata": {},
     "output_type": "display_data"
    },
    {
     "name": "stdout",
     "output_type": "stream",
     "text": [
      "QUBO matrix\n",
      "[[12  2  2]\n",
      " [ 0 17  2]\n",
      " [ 0  0 22]]\n",
      "Simplified QUBO with γ = 4\n"
     ]
    },
    {
     "data": {
      "text/latex": [
       "$\\displaystyle 8 x_{1} x_{2} + 8 x_{1} x_{3} + 3 x_{1} + 8 x_{2} x_{3} + 8 x_{2} + 13 x_{3} + 16$"
      ],
      "text/plain": [
       "8*x1*x2 + 8*x1*x3 + 3*x1 + 8*x2*x3 + 8*x2 + 13*x3 + 16"
      ]
     },
     "metadata": {},
     "output_type": "display_data"
    },
    {
     "name": "stdout",
     "output_type": "stream",
     "text": [
      "QUBO matrix\n",
      "[[ 3  8  8]\n",
      " [ 0  8  8]\n",
      " [ 0  0 13]]\n",
      "Simplified QUBO with γ = 30\n"
     ]
    },
    {
     "data": {
      "text/latex": [
       "$\\displaystyle 60 x_{1} x_{2} + 60 x_{1} x_{3} - 75 x_{1} + 60 x_{2} x_{3} - 70 x_{2} - 65 x_{3} + 120$"
      ],
      "text/plain": [
       "60*x1*x2 + 60*x1*x3 - 75*x1 + 60*x2*x3 - 70*x2 - 65*x3 + 120"
      ]
     },
     "metadata": {},
     "output_type": "display_data"
    },
    {
     "name": "stdout",
     "output_type": "stream",
     "text": [
      "QUBO matrix\n",
      "[[-75  60  60]\n",
      " [  0 -70  60]\n",
      " [  0   0 -65]]\n",
      "Simplified QUBO with γ = 40\n"
     ]
    },
    {
     "data": {
      "text/latex": [
       "$\\displaystyle 80 x_{1} x_{2} + 80 x_{1} x_{3} - 105 x_{1} + 80 x_{2} x_{3} - 100 x_{2} - 95 x_{3} + 160$"
      ],
      "text/plain": [
       "80*x1*x2 + 80*x1*x3 - 105*x1 + 80*x2*x3 - 100*x2 - 95*x3 + 160"
      ]
     },
     "metadata": {},
     "output_type": "display_data"
    },
    {
     "name": "stdout",
     "output_type": "stream",
     "text": [
      "QUBO matrix\n",
      "[[-105   80   80]\n",
      " [   0 -100   80]\n",
      " [   0    0  -95]]\n"
     ]
    }
   ],
   "source": [
    "def make_qubo(γ = 35, verbose = False):\n",
    "    \"\"\"\n",
    "    make QUBO for the choosing boxes problem:\n",
    "    min(15a + 20b + 25c + γ * (a + b + c - 2)^2)\n",
    "\n",
    "    Args:\n",
    "        γ: int or list of ints ( in the latter case the outputs for all will be printed and the last one returned)\n",
    "    \"\"\"\n",
    "    γs = γ if isinstance(γ, list) else [γ]\n",
    "    γ = γs[-1]\n",
    "\n",
    "    # x1 = sympy.Symbol(\"x1\")\n",
    "    symbols = sympy.symbols(\"x1 x2 x3\")\n",
    "    x1, x2, x3 = symbols\n",
    "\n",
    "    # display( sympy.simplify((x1 + x2 + x3 - 2)**2) )\n",
    "    # display( sympy.trigsimp((x1 + x2 + x3 - 2)**2) )\n",
    "    # display( sympy.cancel((x1 + x2 + x3 - 2)**2) )\n",
    "\n",
    "    if verbose:\n",
    "        print(\"QUBO:\")\n",
    "        display(15 * x1 + 20 * x2 + 25 * x3 + γ * (x1 + x2 + x3 - 2)**2)\n",
    "\n",
    "    for γ in γs:\n",
    "        qubo = sympy.cancel(15 * x1 + 20 * x2 + 25 * x3 + γ * (x1 + x2 + x3 - 2)**2)  # simplified\n",
    "        qubo = qubo.subs({x ** 2: x for x in symbols})  # x_i^2 = x_i   with x_i ∈ {0,1}\n",
    "\n",
    "        Q = make_Q(qubo)\n",
    "        if verbose:\n",
    "            print(f'Simplified QUBO with γ = {γ}')\n",
    "            display(qubo)\n",
    "\n",
    "            print(\"QUBO matrix\")\n",
    "            print(Q)\n",
    "    return Q\n",
    "\n",
    "\n",
    "Q = make_qubo(γ = [1, 4, 30, 40], verbose = True)\n",
    "# for i in [1,4,40]: make_qubo(γ = i, verbose = True)"
   ]
  },
  {
   "cell_type": "code",
   "execution_count": null,
   "metadata": {},
   "outputs": [
    {
     "name": "stdout",
     "output_type": "stream",
     "text": [
      "array([[-105.,   80.,   80.],\n",
      "       [   0., -100.,   80.],\n",
      "       [   0.,    0.,  -95.]])\n",
      "{(0, 0): -105.0,\n",
      " (0, 1): 80.0,\n",
      " (0, 2): 80.0,\n",
      " (1, 1): -100.0,\n",
      " (1, 2): 80.0,\n",
      " (2, 2): -95.0}\n"
     ]
    }
   ],
   "source": [
    "def make_Q_dict(Q, verbose = False):\n",
    "    \"\"\"\n",
    "    Prepare the Q matrix for DWaveSampler()\n",
    "    \"\"\"\n",
    "    Q = Q.astype(float)  # for nan masking\n",
    "    if verbose:\n",
    "        pprint(Q)\n",
    "\n",
    "    # np.mgrid[:Q.shape[0], :Q.shape[1]]\n",
    "    # Q[np.mask_indices(Q.shape[0], np.triu)]\n",
    "\n",
    "    # tril_indices = np.tril_indices(Q.shape[0], k = -1)\n",
    "    triu_indices = np.triu_indices(Q.shape[0])\n",
    "    # triu_indices = np.dstack(triu_indices)[0]\n",
    "\n",
    "    mask = np.ones_like(Q).astype(bool)\n",
    "    mask[triu_indices] = False\n",
    "\n",
    "    assert np.isnan(Q[mask]).all() or (Q[mask] == 0).all(), \"Lower triangle should not contain any values\"\n",
    "\n",
    "    # set lower triangle to np.nan\n",
    "    Q[mask] = np.nan\n",
    "    # Q[tril_indices] = np.nan\n",
    "\n",
    "    # Q = dict(zip(list(zip(*triu_indices)), Q[triu_indices]))\n",
    "    Q = {k: v for (k, v) in np.ndenumerate(Q) if not np.isnan(v)}\n",
    "\n",
    "    if verbose:\n",
    "        pprint(Q)\n",
    "    return Q\n",
    "\n",
    "\n",
    "Q = make_Q_dict(make_qubo(γ = 40, verbose = False), verbose = True)\n",
    "# for i in [1,4,40]: make_Q_dict(make_qubo(γ = i, verbose = False), verbose = True)"
   ]
  },
  {
   "cell_type": "markdown",
   "metadata": {},
   "source": [
    "## Run Problem on QA"
   ]
  },
  {
   "cell_type": "code",
   "execution_count": null,
   "metadata": {},
   "outputs": [],
   "source": [
    "Q = make_Q_dict(make_qubo(γ = 35))\n",
    "\n",
    "bqm = dimod.BQM.from_qubo(Q)\n",
    "\n",
    "sampler = EmbeddingComposite(DWaveSampler())\n",
    "sampleset = sampler.sample(bqm, num_reads = 10)\n",
    "\n",
    "print(sampleset)"
   ]
  },
  {
   "cell_type": "code",
   "execution_count": null,
   "metadata": {},
   "outputs": [
    {
     "name": "stdout",
     "output_type": "stream",
     "text": [
      "   0  1  2 energy num_oc. chain_.\n",
      "0  1  1  0 -105.0       6     0.0\n",
      "1  1  0  1 -100.0       2     0.0\n",
      "2  0  1  1  -95.0       1     0.0\n",
      "3  1  0  0  -90.0       1     0.0\n",
      "['BINARY', 4 rows, 10 samples, 3 variables]\n"
     ]
    }
   ],
   "source": [
    "Q = make_Q_dict(make_qubo(γ = 35))\n",
    "\n",
    "sampler = EmbeddingComposite(DWaveSampler())\n",
    "sampleset = sampler.sample_qubo(Q, num_reads = 10)\n",
    "\n",
    "print(sampleset)\n",
    "# pprint(vars(sampleset))\n",
    "# sampleset"
   ]
  },
  {
   "cell_type": "code",
   "execution_count": null,
   "metadata": {},
   "outputs": [
    {
     "name": "stdout",
     "output_type": "stream",
     "text": [
      "   0  1  2 energy num_oc. chain_.\n",
      "0  1  1  0 -105.0       6     0.0\n",
      "1  1  0  1 -100.0       2     0.0\n",
      "2  0  1  1  -95.0       1     0.0\n",
      "3  1  0  0  -90.0       1     0.0\n",
      "['BINARY', 4 rows, 10 samples, 3 variables]\n",
      "{'_info': {'problem_id': 'ae49c94b-c722-43a9-8bda-cc538266031e',\n",
      "           'timing': {'post_processing_overhead_time': 764.0,\n",
      "                      'qpu_access_overhead_time': 20109.2,\n",
      "                      'qpu_access_time': 9285.8,\n",
      "                      'qpu_anneal_time_per_sample': 20.0,\n",
      "                      'qpu_delay_time_per_sample': 20.54,\n",
      "                      'qpu_programming_time': 8448.6,\n",
      "                      'qpu_readout_time_per_sample': 43.18,\n",
      "                      'qpu_sampling_time': 837.2,\n",
      "                      'total_post_processing_time': 764.0}},\n",
      " '_record': rec.array([([1, 1, 0], -105., 6, 0.), ([1, 0, 1], -100., 2, 0.),\n",
      "           ([0, 1, 1],  -95., 1, 0.), ([1, 0, 0],  -90., 1, 0.)],\n",
      "          dtype=[('sample', 'i1', (3,)), ('energy', '<f8'), ('num_occurrences', '<i8'), ('chain_break_fraction', '<f8')]),\n",
      " '_variables': Variables([0, 1, 2]),\n",
      " '_vartype': <Vartype.BINARY: frozenset({0, 1})>}\n"
     ]
    },
    {
     "data": {
      "text/plain": [
       "SampleSet(rec.array([([1, 1, 0], -105., 6, 0.), ([1, 0, 1], -100., 2, 0.),\n",
       "           ([0, 1, 1],  -95., 1, 0.), ([1, 0, 0],  -90., 1, 0.)],\n",
       "          dtype=[('sample', 'i1', (3,)), ('energy', '<f8'), ('num_occurrences', '<i8'), ('chain_break_fraction', '<f8')]), Variables([0, 1, 2]), {'timing': {'qpu_sampling_time': 837.2, 'qpu_anneal_time_per_sample': 20.0, 'qpu_readout_time_per_sample': 43.18, 'qpu_access_time': 9285.8, 'qpu_access_overhead_time': 20109.2, 'qpu_programming_time': 8448.6, 'qpu_delay_time_per_sample': 20.54, 'total_post_processing_time': 764.0, 'post_processing_overhead_time': 764.0}, 'problem_id': 'ae49c94b-c722-43a9-8bda-cc538266031e'}, 'BINARY')"
      ]
     },
     "execution_count": 260,
     "metadata": {},
     "output_type": "execute_result"
    }
   ],
   "source": [
    "print(sampleset)\n",
    "pprint(vars(sampleset))\n",
    "sampleset"
   ]
  },
  {
   "cell_type": "markdown",
   "metadata": {},
   "source": [
    "## Automated"
   ]
  },
  {
   "cell_type": "code",
   "execution_count": 1,
   "metadata": {},
   "outputs": [
    {
     "name": "stdout",
     "output_type": "stream",
     "text": [
      "BinaryQuadraticModel({'x1': -90.0, 'x2': -85.0, 'x3': -80.0}, {('x2', 'x1'): 70.0, ('x3', 'x1'): 70.0, ('x3', 'x2'): 70.0}, 140.0, 'BINARY')\n",
      "\n",
      "  x1 x2 x3 energy num_oc. chain_.\n",
      "0  1  1  0   35.0       3     0.0\n",
      "1  1  0  1   40.0       6     0.0\n",
      "2  0  0  1   60.0       1     0.0\n",
      "['BINARY', 3 rows, 10 samples, 3 variables]\n"
     ]
    }
   ],
   "source": [
    "# BQM\n",
    "\n",
    "\n",
    "γ = 35\n",
    "x1 = dimod.Binary(\"x1\")\n",
    "x2 = dimod.Binary(\"x2\")\n",
    "x3 = dimod.Binary(\"x3\")\n",
    "\n",
    "bqm = 15 * x1 + 20 * x2 + 25 * x3 + γ * (x1 + x2 + x3 - 2)**2\n",
    "display(bqm)\n",
    "\n",
    "sampler_bqm = EmbeddingComposite(DWaveSampler())\n",
    "sampleset_bqm = sampler_bqm.sample(bqm, num_reads = 10)\n",
    "\n",
    "print(sampleset_bqm)"
   ]
  },
  {
   "cell_type": "code",
   "execution_count": 2,
   "metadata": {},
   "outputs": [
    {
     "name": "stdout",
     "output_type": "stream",
     "text": [
      "    x1  x2  x3 energy num_oc. is_sat. is_fea.\n",
      "3  1.0 1.0 0.0   35.0       1 arra...    True\n",
      "4  1.0 1.0 0.0   35.0       1 arra...    True\n",
      "5  1.0 1.0 0.0   35.0       1 arra...    True\n",
      "8  1.0 1.0 0.0   35.0       1 arra...    True\n",
      "9  1.0 1.0 0.0   35.0       1 arra...    True\n",
      "10 1.0 1.0 0.0   35.0       1 arra...    True\n",
      "11 1.0 1.0 0.0   35.0       1 arra...    True\n",
      "12 1.0 1.0 0.0   35.0       1 arra...    True\n",
      "13 1.0 1.0 0.0   35.0       1 arra...    True\n",
      "14 1.0 1.0 0.0   35.0       1 arra...    True\n",
      "15 1.0 1.0 0.0   35.0       1 arra...    True\n",
      "16 1.0 1.0 0.0   35.0       1 arra...    True\n",
      "17 1.0 1.0 0.0   35.0       1 arra...    True\n",
      "18 1.0 1.0 0.0   35.0       1 arra...    True\n",
      "19 1.0 1.0 0.0   35.0       1 arra...    True\n",
      "20 1.0 1.0 0.0   35.0       1 arra...    True\n",
      "21 1.0 1.0 0.0   35.0       1 arra...    True\n",
      "22 1.0 1.0 0.0   35.0       1 arra...    True\n",
      "23 1.0 1.0 0.0   35.0       1 arra...    True\n",
      "24 1.0 1.0 0.0   35.0       1 arra...    True\n",
      "25 1.0 1.0 0.0   35.0       1 arra...    True\n",
      "26 1.0 1.0 0.0   35.0       1 arra...    True\n",
      "27 1.0 1.0 0.0   35.0       1 arra...    True\n",
      "28 1.0 1.0 0.0   35.0       1 arra...    True\n",
      "29 1.0 1.0 0.0   35.0       1 arra...    True\n",
      "30 1.0 1.0 0.0   35.0       1 arra...    True\n",
      "31 1.0 1.0 0.0   35.0       1 arra...    True\n",
      "32 1.0 1.0 0.0   35.0       1 arra...    True\n",
      "33 1.0 1.0 0.0   35.0       1 arra...    True\n",
      "34 1.0 1.0 0.0   35.0       1 arra...    True\n",
      "35 1.0 1.0 0.0   35.0       1 arra...    True\n",
      "36 1.0 1.0 0.0   35.0       1 arra...    True\n",
      "0  1.0 0.0 1.0   40.0       1 arra...    True\n",
      "2  1.0 0.0 1.0   40.0       1 arra...    True\n",
      "7  1.0 0.0 1.0   40.0       1 arra...    True\n",
      "37 1.0 0.0 1.0   40.0       1 arra...    True\n",
      "1  0.0 1.0 1.0   45.0       1 arra...    True\n",
      "6  0.0 1.0 1.0   45.0       1 arra...    True\n",
      "['INTEGER', 38 rows, 38 samples, 3 variables]\n"
     ]
    }
   ],
   "source": [
    "# CQM\n",
    "\n",
    "\n",
    "symbols = [dimod.Binary(f'x{i}') for i in range(1, 4)]\n",
    "x1, x2, x3 = symbols\n",
    "\n",
    "\n",
    "cqm = dimod.ConstrainedQuadraticModel()\n",
    "cqm.set_objective(15 * x1 + 20 * x2 + 25 * x3)\n",
    "cqm.add_constraint(x1 + x2 + x3 == 2, label = \"pick exactly 2 boxes\")\n",
    "\n",
    "# print(cqm)\n",
    "# pprint(vars(cqm))\n",
    "\n",
    "sampler_cqm = LeapHybridCQMSampler()\n",
    "# print(sampler_cqm.parameters)\n",
    "sampleset_cqm = sampler_cqm.sample_cqm(cqm)\n",
    "# sampleset_cqm = dimod.ExactCQMSolver().sample_cqm(cqm)\n",
    "\n",
    "print(sampleset_cqm)"
   ]
  },
  {
   "cell_type": "code",
   "execution_count": 3,
   "metadata": {},
   "outputs": [
    {
     "name": "stdout",
     "output_type": "stream",
     "text": [
      "10\n",
      "   0  1  2 energy num_oc. chain_.\n",
      "0  1  0  0  -15.0      89     0.0\n",
      "1  0  1  0  -10.0      11     0.0\n",
      "['BINARY', 2 rows, 100 samples, 3 variables]\n",
      "\n",
      "20\n",
      "   0  1  2 energy num_oc. chain_.\n",
      "0  1  0  0  -45.0      41     0.0\n",
      "1  1  1  0  -45.0      52     0.0\n",
      "2  0  1  0  -40.0       3     0.0\n",
      "3  1  0  1  -40.0       3     0.0\n",
      "4  0  1  1  -35.0       1     0.0\n",
      "['BINARY', 5 rows, 100 samples, 3 variables]\n",
      "\n",
      "30\n",
      "   0  1  2 energy num_oc. chain_.\n",
      "0  1  1  0  -85.0      74     0.0\n",
      "1  1  0  1  -80.0      20     0.0\n",
      "2  0  1  1  -75.0       3     0.0\n",
      "3  1  0  0  -75.0       2     0.0\n",
      "4  0  1  0  -70.0       1     0.0\n",
      "['BINARY', 5 rows, 100 samples, 3 variables]\n",
      "\n",
      "35\n",
      "   0  1  2 energy num_oc. chain_.\n",
      "0  1  1  0 -105.0      76     0.0\n",
      "1  1  0  1 -100.0      16     0.0\n",
      "2  0  1  1  -95.0       5     0.0\n",
      "3  1  0  0  -90.0       1     0.0\n",
      "4  0  1  0  -85.0       1     0.0\n",
      "5  0  0  1  -80.0       1     0.0\n",
      "['BINARY', 6 rows, 100 samples, 3 variables]\n",
      "\n",
      "40\n",
      "   0  1  2 energy num_oc. chain_.\n",
      "0  1  1  0 -125.0      72     0.0\n",
      "1  1  0  1 -120.0      17     0.0\n",
      "2  0  1  1 -115.0      10     0.0\n",
      "3  0  1  0 -100.0       1     0.0\n",
      "['BINARY', 4 rows, 100 samples, 3 variables]\n",
      "\n",
      "50\n",
      "   0  1  2 energy num_oc. chain_.\n",
      "0  1  1  0 -165.0      66     0.0\n",
      "1  1  0  1 -160.0      20     0.0\n",
      "2  0  1  1 -155.0      13     0.0\n",
      "3  1  0  0 -135.0       1     0.0\n",
      "['BINARY', 4 rows, 100 samples, 3 variables]\n",
      "\n",
      "60\n",
      "   0  1  2 energy num_oc. chain_.\n",
      "0  1  1  0 -205.0      53     0.0\n",
      "1  1  0  1 -200.0      35     0.0\n",
      "2  0  1  1 -195.0      12     0.0\n",
      "['BINARY', 3 rows, 100 samples, 3 variables]\n",
      "\n",
      "70\n",
      "   0  1  2 energy num_oc. chain_.\n",
      "0  1  1  0 -245.0      69     0.0\n",
      "1  1  0  1 -240.0      23     0.0\n",
      "2  0  1  1 -235.0       8     0.0\n",
      "['BINARY', 3 rows, 100 samples, 3 variables]\n",
      "\n",
      "80\n",
      "   0  1  2 energy num_oc. chain_.\n",
      "0  1  1  0 -285.0      56     0.0\n",
      "1  1  0  1 -280.0      26     0.0\n",
      "2  0  1  1 -275.0      18     0.0\n",
      "['BINARY', 3 rows, 100 samples, 3 variables]\n"
     ]
    }
   ],
   "source": [
    "samplesets = {}\n",
    "for γ in [10, 20, 30, 35, 40, 50, 60, 70, 80]:\n",
    "    Q = make_Q_dict(make_qubo(γ = γ))\n",
    "\n",
    "    sampler = EmbeddingComposite(DWaveSampler())\n",
    "    sampleset = sampler.sample_qubo(Q, num_reads = 100)\n",
    "\n",
    "    print(γ)\n",
    "    print(sampleset)\n",
    "    print()\n",
    "    samplesets[γ] = sampleset\n",
    "\n",
    "\n",
    "df = pd.concat({γ: s.to_pandas_dataframe() for γ, s in samplesets.items()}).rename_axis(index = [\"γ\", \"#\"])\n",
    "\n",
    "# df[\"result\"] = df[0].astype(str) + df[1].astype(str) + df[2].astype(str)\n",
    "# df[\"result\"] = df[\"result\"].apply(lambda x: int(f'0b{x}', 2))\n",
    "df[\"result\"] = df[0] * 15 + df[1] * 20 + df[2] * 25\n",
    "df[\"#picked\"] = df[0] + df[1] + df[2]\n",
    "# df.set_index(\"result\")\n",
    "display(df.style.bar(subset = [\"energy\", \"num_occurrences\"]).background_gradient(subset = \"result\", cmap = \"Blues_r\").background_gradient(subset = \"#picked\"))\n",
    "\n",
    "df = df.T.stack()\n",
    "\n",
    "# df = df.reset_index(level = 1, drop = True)\n",
    "# df = df.reset_index()\n",
    "\n",
    "# df[[\"energy\", \"num_occurrences\"]].plot()\n",
    "# df.drop(columns = [0, 1, 2, \"#\"]).plot()\n",
    "# df.drop(columns = [0, 1, 2, \"#\"]).groupby(by = \"γ\").plot()\n",
    "# df.drop(index = [0, 1, 2, ]).plot()\n",
    "# df.loc[[\"energy\", \"num_occurrences\"]].plot()\n",
    "df.loc[[\"num_occurrences\"]].plot()\n",
    "df.loc[[\"energy\", ]].plot()\n",
    "# df.loc[[\"chain_break_fraction\", ]].plot()\n",
    "# df.plot()"
   ]
  },
  {
   "cell_type": "markdown",
   "metadata": {},
   "source": [
    "## Trash"
   ]
  },
  {
   "cell_type": "code",
   "execution_count": null,
   "metadata": {},
   "outputs": [],
   "source": [
    "# # help(np.ma.masked_array)\n",
    "# mask = np.zeros_like(Q).astype(bool)\n",
    "# # mask = np.empty_like(Q)\n",
    "# # mask = Q.copy()\n",
    "# # print(mask)\n",
    "# # mask = np.where(lambda x: np.isnan, Q, True)\n",
    "# # mask[np.isnan(mask)] = False\n",
    "# mask[triu_indices] = True\n",
    "# # mask = mask.astype(bool)\n",
    "# print(mask)\n",
    "# Q[mask]\n",
    "\n",
    "Q2 = np.ma.array(Q, mask = mask)\n",
    "# Q2 = np.ma.masked_array(Q, mask = mask)\n",
    "print(Q2)\n",
    "\n",
    "print(dict(np.ndenumerate(Q2)).values())\n",
    "\n",
    "Q2\n",
    "\n",
    "print()\n",
    "print(np.ma.clump_masked(Q2))\n",
    "print(np.ma.clump_unmasked(Q2))\n",
    "print(np.ma.flatnotmasked_contiguous(Q2))\n",
    "print(np.ma.flatnotmasked_edges(Q2))\n",
    "print(np.ma.notmasked_contiguous(Q2))\n",
    "print(np.ma.notmasked_edges(Q2))"
   ]
  },
  {
   "cell_type": "code",
   "execution_count": null,
   "metadata": {},
   "outputs": [],
   "source": [
    "np.triu(Q)\n",
    "Q[np.mask_indices(Q.shape[0], np.tril)]\n",
    "\n",
    "# np.ma.array(Q, mask = np.triu_indices(Q.shape[0]))\n",
    "# np.ma.array(Q, mask = np.vstack(np.triu_indices(Q.shape[0])).T)\n",
    "# np.ma.array(Q, mask = np.dstack(triu_indices)[0])\n",
    "# np.ma.array(Q, mask = list(zip(*triu_indices)))\n",
    "\n",
    "# np.vstack(np.triu_indices(Q.shape[0])).T\n",
    "# np.dstack(triu_indices)[0]\n",
    "# list(zip(*triu_indices))\n",
    "print(np.mask_indices(Q.shape[0], np.triu))\n",
    "print(np.triu_indices(Q.shape[0]))"
   ]
  },
  {
   "cell_type": "code",
   "execution_count": null,
   "metadata": {},
   "outputs": [],
   "source": [
    "# # sympy.linear_eq_to_matrix(qubo, *symbols)\n",
    "# print([qubo.coeff(symbol ** 2) for symbol in symbols])\n",
    "# print([qubo.coeff(symbol) for symbol in symbols])\n",
    "\n",
    "# # print(sympy.decompose(qubo))\n",
    "\n",
    "# print(\"deg ls:  \", sympy.degree_list(qubo))\n",
    "# print(\"deg:     \", sympy.degree(qubo, gen = x1))\n",
    "# print(\"LC:      \", sympy.LC(qubo))\n",
    "# print(\"LM:      \", sympy.LM(qubo))\n",
    "\n",
    "# print(\"Poly()\")\n",
    "# qubo_poly = qubo.as_poly()\n",
    "# print(\"as_poly: \", qubo_poly)\n",
    "# print(\"EC:      \", qubo_poly.EC())\n",
    "# print(\"EM:      \", qubo_poly.EM())\n",
    "# print(\"as_list: \", qubo_poly.as_list())\n",
    "\n",
    "# qubo_dict = qubo_poly.as_dict()\n",
    "# print(\"as_dict: \", qubo_dict)\n",
    "# pprint(qubo_dict)"
   ]
  },
  {
   "cell_type": "code",
   "execution_count": null,
   "metadata": {},
   "outputs": [],
   "source": []
  }
 ],
 "metadata": {
  "interpreter": {
   "hash": "ddc813e355b63b19f1af14a019a3201799d7a9ce0b92523df60f28eba2663f85"
  },
  "kernelspec": {
   "display_name": "Python 3.9.7 64-bit ('py39': venv)",
   "language": "python",
   "name": "python3"
  },
  "language_info": {
   "codemirror_mode": {
    "name": "ipython",
    "version": 3
   },
   "file_extension": ".py",
   "mimetype": "text/x-python",
   "name": "python",
   "nbconvert_exporter": "python",
   "pygments_lexer": "ipython3",
   "version": "3.9.7"
  },
  "orig_nbformat": 4
 },
 "nbformat": 4,
 "nbformat_minor": 2
}
